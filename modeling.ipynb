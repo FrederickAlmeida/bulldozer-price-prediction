{
 "cells": [
  {
   "cell_type": "code",
   "execution_count": 52,
   "metadata": {},
   "outputs": [],
   "source": [
    "# data manipulation\n",
    "import numpy as np\n",
    "import pandas as pd\n",
    "\n",
    "# data visualization\n",
    "import matplotlib.pyplot as plt\n",
    "\n",
    "# modeling\n",
    "from sklearn.ensemble import RandomForestRegressor\n",
    "from sklearn.model_selection import train_test_split, cross_val_score\n",
    "from sklearn.metrics import root_mean_squared_log_error, mean_absolute_error, r2_score\n",
    "import optuna\n",
    "from xgboost import XGBRegressor"
   ]
  },
  {
   "cell_type": "markdown",
   "metadata": {},
   "source": [
    "#### Importing the data"
   ]
  },
  {
   "cell_type": "code",
   "execution_count": 2,
   "metadata": {},
   "outputs": [],
   "source": [
    "df_train = pd.read_csv(\"data/train_preprocessed.csv\", low_memory=False)"
   ]
  },
  {
   "cell_type": "markdown",
   "metadata": {},
   "source": [
    "Since the dataset is very big (over 400k instances), we are going to use only 1/4 of it, for choosing the hyperparameters"
   ]
  },
  {
   "cell_type": "code",
   "execution_count": 9,
   "metadata": {},
   "outputs": [
    {
     "data": {
      "text/plain": [
       "103174"
      ]
     },
     "execution_count": 9,
     "metadata": {},
     "output_type": "execute_result"
    }
   ],
   "source": [
    "df_train_subset = df_train.sample(frac=0.25, random_state=42)\n",
    "len(df_train_subset)"
   ]
  },
  {
   "cell_type": "code",
   "execution_count": 10,
   "metadata": {},
   "outputs": [],
   "source": [
    "# splitting into X and Y\n",
    "df_t = df_train_subset[df_train_subset['saleYear'] < 2012]\n",
    "df_v = df_train_subset[df_train_subset['saleYear'] == 2012]\n",
    "\n",
    "X_train, X_val = df_t.drop(columns=\"SalePrice\"), df_v.drop(columns=\"SalePrice\")\n",
    "y_train, y_val = df_t['SalePrice'], df_v['SalePrice']"
   ]
  },
  {
   "cell_type": "markdown",
   "metadata": {},
   "source": [
    "#### Evaluation Function"
   ]
  },
  {
   "cell_type": "code",
   "execution_count": 59,
   "metadata": {},
   "outputs": [],
   "source": [
    "def score_rmsle(model):\n",
    "    train_preds = model.predict(X_train)\n",
    "    val_preds = model.predict(X_val)\n",
    "    scores = {\n",
    "        \"train MAE\": mean_absolute_error(y_train, train_preds),\n",
    "        \"val MAE\": mean_absolute_error(y_val, val_preds),\n",
    "        \"train r2\": r2_score(y_train, train_preds),\n",
    "        \"val r2\": r2_score(y_val, val_preds),\n",
    "        \"train rmsle\": root_mean_squared_log_error(y_train, train_preds),\n",
    "        \"val rmsle\": root_mean_squared_log_error(y_val, val_preds)\n",
    "    }\n",
    "    return scores"
   ]
  },
  {
   "cell_type": "markdown",
   "metadata": {},
   "source": [
    "### Training the models\n",
    "We are going to be training a random forest model"
   ]
  },
  {
   "cell_type": "code",
   "execution_count": 16,
   "metadata": {},
   "outputs": [],
   "source": [
    "models = {\n",
    "    'RandomForest': []\n",
    "}"
   ]
  },
  {
   "cell_type": "markdown",
   "metadata": {},
   "source": [
    "#### Random Forest"
   ]
  },
  {
   "cell_type": "code",
   "execution_count": 14,
   "metadata": {},
   "outputs": [
    {
     "name": "stdout",
     "output_type": "stream",
     "text": [
      "0.8571974230974703\n"
     ]
    }
   ],
   "source": [
    "clf = RandomForestRegressor(random_state=42).fit(X_train, y_train)"
   ]
  },
  {
   "cell_type": "code",
   "execution_count": 27,
   "metadata": {},
   "outputs": [
    {
     "data": {
      "text/plain": [
       "{'train MAE': 1846.564844402788,\n",
       " 'val MAE': 6475.541203607353,\n",
       " 'train r2': 0.983550519486161,\n",
       " 'val r2': 0.8571974230974703,\n",
       " 'train rmsle': 0.09684217127535479,\n",
       " 'val rmsle': 0.25893849947720776}"
      ]
     },
     "execution_count": 27,
     "metadata": {},
     "output_type": "execute_result"
    }
   ],
   "source": [
    "base_scores = score_rmsle(clf)\n",
    "base_scores"
   ]
  },
  {
   "cell_type": "code",
   "execution_count": 28,
   "metadata": {},
   "outputs": [],
   "source": [
    "models['RandomForest'].append(base_scores)"
   ]
  },
  {
   "cell_type": "code",
   "execution_count": 46,
   "metadata": {},
   "outputs": [],
   "source": [
    "def objective_RF(trial):\n",
    "    n_estimators = trial.suggest_int('n_estimators', 50, 1000)\n",
    "    max_features = trial.suggest_categorical('max_features', ['log2', 'sqrt', None])\n",
    "    max_depth = trial.suggest_int('max_depth', 10, 100)\n",
    "    min_samples_split = trial.suggest_int('min_samples_slit', 2, 10)\n",
    "    min_samples_leaf = trial.suggest_int('min_samples_leaf', 1, 4)\n",
    "\n",
    "    clf = RandomForestRegressor(\n",
    "        n_estimators=n_estimators,\n",
    "        max_features=max_features,\n",
    "        max_depth=max_depth,\n",
    "        min_samples_leaf=min_samples_leaf,\n",
    "        min_samples_split=min_samples_split,\n",
    "        random_state=42,\n",
    "        n_jobs=-1\n",
    "    )\n",
    "\n",
    "    clf.fit(X_train, y_train)\n",
    "    score = clf.score(X_val, y_val)\n",
    "\n",
    "    return score"
   ]
  },
  {
   "cell_type": "code",
   "execution_count": 47,
   "metadata": {},
   "outputs": [
    {
     "name": "stderr",
     "output_type": "stream",
     "text": [
      "[I 2024-10-04 07:25:25,705] A new study created in memory with name: no-name-2fa59df4-9eec-4ae9-8d87-d5132e429209\n",
      "[I 2024-10-04 07:25:30,199] Trial 0 finished with value: 0.772571611730743 and parameters: {'n_estimators': 265, 'max_features': 'log2', 'max_depth': 48, 'min_samples_slit': 10, 'min_samples_leaf': 4}. Best is trial 0 with value: 0.772571611730743.\n",
      "[I 2024-10-04 07:25:39,356] Trial 1 finished with value: 0.8361143364329204 and parameters: {'n_estimators': 229, 'max_features': 'sqrt', 'max_depth': 69, 'min_samples_slit': 2, 'min_samples_leaf': 1}. Best is trial 1 with value: 0.8361143364329204.\n",
      "[I 2024-10-04 07:26:58,340] Trial 2 finished with value: 0.8562261830855342 and parameters: {'n_estimators': 533, 'max_features': None, 'max_depth': 92, 'min_samples_slit': 5, 'min_samples_leaf': 4}. Best is trial 2 with value: 0.8562261830855342.\n",
      "[I 2024-10-04 07:27:17,785] Trial 3 finished with value: 0.8109388296321162 and parameters: {'n_estimators': 920, 'max_features': 'sqrt', 'max_depth': 44, 'min_samples_slit': 9, 'min_samples_leaf': 4}. Best is trial 2 with value: 0.8562261830855342.\n",
      "[I 2024-10-04 07:28:31,991] Trial 4 finished with value: 0.8572381761865182 and parameters: {'n_estimators': 436, 'max_features': None, 'max_depth': 91, 'min_samples_slit': 6, 'min_samples_leaf': 3}. Best is trial 4 with value: 0.8572381761865182.\n",
      "[I 2024-10-04 07:28:49,962] Trial 5 finished with value: 0.7973637384195693 and parameters: {'n_estimators': 948, 'max_features': 'log2', 'max_depth': 75, 'min_samples_slit': 2, 'min_samples_leaf': 2}. Best is trial 4 with value: 0.8572381761865182.\n",
      "[I 2024-10-04 07:29:02,224] Trial 6 finished with value: 0.8329397081454042 and parameters: {'n_estimators': 453, 'max_features': 'sqrt', 'max_depth': 90, 'min_samples_slit': 6, 'min_samples_leaf': 1}. Best is trial 4 with value: 0.8572381761865182.\n",
      "[I 2024-10-04 07:29:09,735] Trial 7 finished with value: 0.8107489398772272 and parameters: {'n_estimators': 338, 'max_features': 'sqrt', 'max_depth': 60, 'min_samples_slit': 5, 'min_samples_leaf': 4}. Best is trial 4 with value: 0.8572381761865182.\n",
      "[I 2024-10-04 07:29:22,233] Trial 8 finished with value: 0.7812868312397645 and parameters: {'n_estimators': 792, 'max_features': 'log2', 'max_depth': 19, 'min_samples_slit': 8, 'min_samples_leaf': 2}. Best is trial 4 with value: 0.8572381761865182.\n",
      "[I 2024-10-04 07:29:28,333] Trial 9 finished with value: 0.7811098654786388 and parameters: {'n_estimators': 380, 'max_features': 'log2', 'max_depth': 19, 'min_samples_slit': 8, 'min_samples_leaf': 2}. Best is trial 4 with value: 0.8572381761865182.\n",
      "[I 2024-10-04 07:29:42,927] Trial 10 finished with value: 0.8562325651178534 and parameters: {'n_estimators': 86, 'max_features': None, 'max_depth': 100, 'min_samples_slit': 4, 'min_samples_leaf': 3}. Best is trial 4 with value: 0.8572381761865182.\n",
      "[I 2024-10-04 07:29:55,374] Trial 11 finished with value: 0.8556235998315822 and parameters: {'n_estimators': 75, 'max_features': None, 'max_depth': 99, 'min_samples_slit': 4, 'min_samples_leaf': 3}. Best is trial 4 with value: 0.8572381761865182.\n",
      "[I 2024-10-04 07:31:35,340] Trial 12 finished with value: 0.8575467975837016 and parameters: {'n_estimators': 638, 'max_features': None, 'max_depth': 82, 'min_samples_slit': 4, 'min_samples_leaf': 3}. Best is trial 12 with value: 0.8575467975837016.\n",
      "[I 2024-10-04 07:33:13,668] Trial 13 finished with value: 0.8576396638188977 and parameters: {'n_estimators': 625, 'max_features': None, 'max_depth': 79, 'min_samples_slit': 7, 'min_samples_leaf': 3}. Best is trial 13 with value: 0.8576396638188977.\n",
      "[I 2024-10-04 07:34:51,218] Trial 14 finished with value: 0.8574925333765623 and parameters: {'n_estimators': 653, 'max_features': None, 'max_depth': 77, 'min_samples_slit': 7, 'min_samples_leaf': 3}. Best is trial 13 with value: 0.8576396638188977.\n",
      "[I 2024-10-04 07:36:28,770] Trial 15 finished with value: 0.8575720067886239 and parameters: {'n_estimators': 635, 'max_features': None, 'max_depth': 62, 'min_samples_slit': 3, 'min_samples_leaf': 3}. Best is trial 13 with value: 0.8576396638188977.\n",
      "[I 2024-10-04 07:38:29,519] Trial 16 finished with value: 0.8592110576984001 and parameters: {'n_estimators': 742, 'max_features': None, 'max_depth': 35, 'min_samples_slit': 3, 'min_samples_leaf': 2}. Best is trial 16 with value: 0.8592110576984001.\n",
      "[I 2024-10-04 07:40:32,063] Trial 17 finished with value: 0.8588653116636753 and parameters: {'n_estimators': 760, 'max_features': None, 'max_depth': 33, 'min_samples_slit': 7, 'min_samples_leaf': 2}. Best is trial 16 with value: 0.8592110576984001.\n",
      "[I 2024-10-04 07:43:11,645] Trial 18 finished with value: 0.8585737143065774 and parameters: {'n_estimators': 799, 'max_features': None, 'max_depth': 33, 'min_samples_slit': 7, 'min_samples_leaf': 1}. Best is trial 16 with value: 0.8592110576984001.\n",
      "[I 2024-10-04 07:45:35,895] Trial 19 finished with value: 0.8590967914484005 and parameters: {'n_estimators': 774, 'max_features': None, 'max_depth': 31, 'min_samples_slit': 3, 'min_samples_leaf': 2}. Best is trial 16 with value: 0.8592110576984001.\n"
     ]
    }
   ],
   "source": [
    "study = optuna.create_study(direction=\"maximize\")\n",
    "study.optimize(objective_RF, n_trials=20)\n",
    "\n",
    "trial = study.best_trial"
   ]
  },
  {
   "cell_type": "code",
   "execution_count": 48,
   "metadata": {},
   "outputs": [
    {
     "name": "stdout",
     "output_type": "stream",
     "text": [
      "Highest accuracy: 0.8592110576984001\n",
      "n_estimators: 742\n",
      "max_features: None\n",
      "max_depth: 35\n",
      "min_samples_slit: 3\n",
      "min_samples_leaf: 2\n"
     ]
    }
   ],
   "source": [
    "print(f\"Highest accuracy: {trial.value}\")\n",
    "for k, v in trial.params.items():\n",
    "    print(f\"{k}: {v}\")"
   ]
  },
  {
   "cell_type": "markdown",
   "metadata": {},
   "source": [
    "Training the model with the entire dataset, using the parameters we found"
   ]
  },
  {
   "cell_type": "code",
   "execution_count": 61,
   "metadata": {},
   "outputs": [],
   "source": [
    "train = df_train[df_train['saleYear'] < 2012]\n",
    "val = df_train[df_train['saleYear'] == 2012]\n",
    "\n",
    "X_train_c, X_val_c = train.drop(columns=\"SalePrice\"), val.drop(columns=\"SalePrice\")\n",
    "y_train_c, y_val_c = train['SalePrice'], val['SalePrice']"
   ]
  },
  {
   "cell_type": "code",
   "execution_count": 62,
   "metadata": {},
   "outputs": [],
   "source": [
    "def score_rmsle_c(model):\n",
    "    train_preds = model.predict(X_train_c)\n",
    "    val_preds = model.predict(X_val_c)\n",
    "    scores = {\n",
    "        \"train MAE\": mean_absolute_error(y_train_c, train_preds),\n",
    "        \"val MAE\": mean_absolute_error(y_val_c, val_preds),\n",
    "        \"train r2\": r2_score(y_train_c, train_preds),\n",
    "        \"val r2\": r2_score(y_val_c, val_preds),\n",
    "        \"train rmsle\": root_mean_squared_log_error(y_train_c, train_preds),\n",
    "        \"val rmsle\": root_mean_squared_log_error(y_val_c, val_preds)\n",
    "    }\n",
    "    return scores"
   ]
  },
  {
   "cell_type": "code",
   "execution_count": 63,
   "metadata": {},
   "outputs": [],
   "source": [
    "best_params = trial.params\n",
    "rf = RandomForestRegressor(\n",
    "    n_estimators=best_params['n_estimators'],\n",
    "    max_features=best_params['max_features'],\n",
    "    max_depth=best_params['max_depth'],\n",
    "    min_samples_split=best_params['min_samples_slit'],\n",
    "    min_samples_leaf=best_params['min_samples_leaf'],\n",
    "    random_state=42,\n",
    "    n_jobs=-1\n",
    ").fit(X_train_c, y_train_c)\n",
    "\n",
    "score = score_rmsle_c(rf)"
   ]
  },
  {
   "cell_type": "code",
   "execution_count": 64,
   "metadata": {},
   "outputs": [
    {
     "data": {
      "text/plain": [
       "{'train MAE': 1948.2014523406506,\n",
       " 'val MAE': 6042.512938396712,\n",
       " 'train r2': 0.9795558906388644,\n",
       " 'val r2': 0.8744567343774503,\n",
       " 'train rmsle': 0.10392332243580103,\n",
       " 'val rmsle': 0.2501525859447095}"
      ]
     },
     "execution_count": 64,
     "metadata": {},
     "output_type": "execute_result"
    }
   ],
   "source": [
    "score"
   ]
  },
  {
   "cell_type": "code",
   "execution_count": 74,
   "metadata": {},
   "outputs": [],
   "source": [
    "df_test = pd.read_csv(\"data/test_preprovessed.csv\", low_memory=False)\n",
    "df_test = df_test.reindex(columns=X_train_c.columns)"
   ]
  },
  {
   "cell_type": "code",
   "execution_count": 75,
   "metadata": {},
   "outputs": [],
   "source": [
    "test_preds = rf.predict(df_test)"
   ]
  }
 ],
 "metadata": {
  "kernelspec": {
   "display_name": "Python 3",
   "language": "python",
   "name": "python3"
  },
  "language_info": {
   "codemirror_mode": {
    "name": "ipython",
    "version": 3
   },
   "file_extension": ".py",
   "mimetype": "text/x-python",
   "name": "python",
   "nbconvert_exporter": "python",
   "pygments_lexer": "ipython3",
   "version": "3.12.4"
  }
 },
 "nbformat": 4,
 "nbformat_minor": 2
}
